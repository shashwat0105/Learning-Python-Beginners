{
 "cells": [
  {
   "cell_type": "code",
   "execution_count": 14,
   "metadata": {},
   "outputs": [
    {
     "name": "stdout",
     "output_type": "stream",
     "text": [
      "Enter a string: ravivar\n",
      "Yes\n"
     ]
    }
   ],
   "source": [
    "#Python program check string is a palindrome or not.\n",
    "#defining a function which will check\n",
    "def isPalindrome(str):\n",
    " \n",
    "    # traversing from 0 to half the string length\n",
    "    for i in range(0, int(len(str)/2)): \n",
    "        if str[i] != str[len(str)-i-1]:  #comparing the indices\n",
    "            return False\n",
    "    return True\n",
    " \n",
    "# main function\n",
    "\n",
    "string = input(\"Enter a string: \")\n",
    "result = isPalindrome(string)\n",
    " \n",
    "if (result):\n",
    "    print(\"Yes\")\n",
    "else:\n",
    "    print(\"No\")"
   ]
  },
  {
   "cell_type": "code",
   "execution_count": null,
   "metadata": {},
   "outputs": [],
   "source": []
  },
  {
   "cell_type": "code",
   "execution_count": null,
   "metadata": {},
   "outputs": [],
   "source": []
  }
 ],
 "metadata": {
  "kernelspec": {
   "display_name": "Python 3",
   "language": "python",
   "name": "python3"
  },
  "language_info": {
   "codemirror_mode": {
    "name": "ipython",
    "version": 3
   },
   "file_extension": ".py",
   "mimetype": "text/x-python",
   "name": "python",
   "nbconvert_exporter": "python",
   "pygments_lexer": "ipython3",
   "version": "3.8.5"
  }
 },
 "nbformat": 4,
 "nbformat_minor": 4
}
